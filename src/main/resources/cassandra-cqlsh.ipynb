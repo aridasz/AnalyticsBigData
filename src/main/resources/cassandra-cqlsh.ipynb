{
 "cells": [
  {
   "cell_type": "code",
   "execution_count": 1,
   "metadata": {
    "collapsed": false
   },
   "outputs": [
    {
     "name": "stdout",
     "output_type": "stream",
     "text": [
      "/home/ec2-user/notebooks/AnalyticsCDOPoc/src\n"
     ]
    }
   ],
   "source": [
    "pwd"
   ]
  },
  {
   "cell_type": "code",
   "execution_count": 2,
   "metadata": {
    "collapsed": true
   },
   "outputs": [],
   "source": [
    "cd ../../"
   ]
  },
  {
   "cell_type": "code",
   "execution_count": 3,
   "metadata": {
    "collapsed": false
   },
   "outputs": [
    {
     "name": "stdout",
     "output_type": "stream",
     "text": [
      "/home/ec2-user/notebooks\n"
     ]
    }
   ],
   "source": [
    "pwd"
   ]
  },
  {
   "cell_type": "code",
   "execution_count": 4,
   "metadata": {
    "collapsed": true
   },
   "outputs": [],
   "source": [
    "cd ../"
   ]
  },
  {
   "cell_type": "code",
   "execution_count": 5,
   "metadata": {
    "collapsed": false
   },
   "outputs": [
    {
     "name": "stdout",
     "output_type": "stream",
     "text": [
      "/home/ec2-user\n"
     ]
    }
   ],
   "source": [
    "pwd"
   ]
  },
  {
   "cell_type": "code",
   "execution_count": 6,
   "metadata": {
    "collapsed": false
   },
   "outputs": [
    {
     "name": "stdout",
     "output_type": "stream",
     "text": [
      "--2018-03-15 19:07:44--  http://apache.claz.org/cassandra/3.0.16/apache-cassandra-3.0.16-bin.tar.gz\n",
      "Resolving apache.claz.org (apache.claz.org)... 74.63.227.45\n",
      "Connecting to apache.claz.org (apache.claz.org)|74.63.227.45|:80... connected.\n",
      "HTTP request sent, awaiting response... 200 OK\n",
      "Length: 32038339 (31M) [application/x-gzip]\n",
      "Saving to: ‘apache-cassandra-3.0.16-bin.tar.gz’\n",
      "\n",
      "100%[======================================>] 32,038,339  10.4MB/s   in 2.9s   \n",
      "\n",
      "2018-03-15 19:07:47 (10.4 MB/s) - ‘apache-cassandra-3.0.16-bin.tar.gz’ saved [32038339/32038339]\n",
      "\n"
     ]
    }
   ],
   "source": [
    "wget http://apache.claz.org/cassandra/3.0.16/apache-cassandra-3.0.16-bin.tar.gz"
   ]
  },
  {
   "cell_type": "code",
   "execution_count": 7,
   "metadata": {
    "collapsed": false
   },
   "outputs": [
    {
     "name": "stdout",
     "output_type": "stream",
     "text": [
      "xz: (stdin): File format not recognized\n",
      "tar: Child returned status 1\n",
      "tar: Error is not recoverable: exiting now\n"
     ]
    },
    {
     "ename": "",
     "evalue": "2",
     "output_type": "error",
     "traceback": []
    }
   ],
   "source": [
    "tar -xJf apache-cassandra-3.0.16-bin.tar.gz"
   ]
  },
  {
   "cell_type": "code",
   "execution_count": 8,
   "metadata": {
    "collapsed": false
   },
   "outputs": [
    {
     "name": "stdout",
     "output_type": "stream",
     "text": [
      "Archive:  apache-cassandra-3.0.16-bin.tar.gz\n",
      "  End-of-central-directory signature not found.  Either this file is not\n",
      "  a zipfile, or it constitutes one disk of a multi-part archive.  In the\n",
      "  latter case the central directory and zipfile comment will be found on\n",
      "  the last disk(s) of this archive.\n",
      "unzip:  cannot find zipfile directory in one of apache-cassandra-3.0.16-bin.tar.gz or\n",
      "        apache-cassandra-3.0.16-bin.tar.gz.zip, and cannot find apache-cassandra-3.0.16-bin.tar.gz.ZIP, period.\n"
     ]
    },
    {
     "ename": "",
     "evalue": "9",
     "output_type": "error",
     "traceback": []
    }
   ],
   "source": [
    "unzip apache-cassandra-3.0.16-bin.tar.gz"
   ]
  },
  {
   "cell_type": "code",
   "execution_count": 9,
   "metadata": {
    "collapsed": true
   },
   "outputs": [],
   "source": [
    "tar -xf apache-cassandra-3.0.16-bin.tar.gz"
   ]
  },
  {
   "cell_type": "code",
   "execution_count": 10,
   "metadata": {
    "collapsed": false
   },
   "outputs": [
    {
     "name": "stdout",
     "output_type": "stream",
     "text": [
      "total 1170044\n",
      "-rw-rw-r--.  1 ec2-user ec2-user    669075 Mar 17  2008 bzip2-1.0.3.tar.gz\n",
      "-rw-rw-r--.  1 ec2-user ec2-user      5307 Mar 20  2012 jdk-9.0.4_linux-x64_bin.tar.gz\n",
      "-rw-rw-r--.  1 ec2-user ec2-user  15222676 Jun 25  2016 Python-3.5.2.tar.xz\n",
      "-rw-rw-r--.  1 ec2-user ec2-user 417798602 Jan 30  2017 Anaconda3-4.0.0-Linux-x86_64.sh\n",
      "-rw-rw-r--.  1 ec2-user ec2-user 523283080 May 30  2017 Anaconda3-4.4.0-Linux-x86_64.sh\n",
      "-rw-rw-r--.  1 ec2-user ec2-user   8738691 Oct 24 21:35 apache-maven-3.5.2-bin.tar.gz\n",
      "drwxr-xr-x.  8 ec2-user ec2-user       255 Dec 20 00:24 jdk1.8.0_161\n",
      "-rw-rw-r--.  1 ec2-user ec2-user 189756259 Dec 20 19:10 jdk-8u161-linux-x64.tar.gz\n",
      "-rw-rw-r--.  1 ec2-user ec2-user  32038339 Feb 19 19:10 apache-cassandra-3.0.16-bin.tar.gz\n",
      "drwxr-xr-x.  6 ec2-user ec2-user        99 Feb 24 19:51 apache-maven-3.5.3\n",
      "-rw-rw-r--.  1 ec2-user ec2-user   8958105 Feb 24 21:35 apache-maven-3.5.3-bin.zip\n",
      "drwxrwxr-x.  6 ec2-user ec2-user        99 Mar  7 14:29 apache-maven-3.5.2\n",
      "-rw-rw-r--.  1 ec2-user ec2-user   1595408 Mar  9 14:28 get-pip.py\n",
      "drwxrwxr-x. 17 ec2-user ec2-user      4096 Mar  9 16:56 Python-3.5.2\n",
      "drwxrwxr-x.  2 ec2-user ec2-user      4096 Mar  9 17:14 bzip2-1.0.3\n",
      "drwxrwxr-x.  2 ec2-user ec2-user        48 Mar  9 17:33 certs\n",
      "-rw-rw-r--.  1 ec2-user ec2-user       916 Mar 13 03:07 mykey.key\n",
      "-rw-rw-r--.  1 ec2-user ec2-user      1029 Mar 13 03:07 mycert.pem\n",
      "-rw-rw-r--.  1 ec2-user ec2-user       581 Mar 13 03:16 Untitled.ipynb\n",
      "drwxrwxr-x. 17 ec2-user ec2-user       227 Mar 13 03:20 anaconda3\n",
      "drwxrwxr-x.  3 ec2-user ec2-user        55 Mar 13 03:59 Untitled Folder\n",
      "-rw-rw-r--.  1 ec2-user ec2-user         0 Mar 13 04:10 password\n",
      "-rw-rw-r--.  1 ec2-user ec2-user      6227 Mar 14 00:48 Untitled1.ipynb\n",
      "-rwxrwxr-x.  1 ec2-user ec2-user       185 Mar 14 13:57 startJupyterNotebook.sh\n",
      "drwxrwxr-x.  3 ec2-user ec2-user       134 Mar 15 18:35 Cassandra\n",
      "drwxrwxr-x.  5 ec2-user ec2-user      4096 Mar 15 18:47 notebooks\n",
      "drwxrwxr-x. 10 ec2-user ec2-user       208 Mar 15 19:09 apache-cassandra-3.0.16\n"
     ]
    }
   ],
   "source": [
    "ls -ltr"
   ]
  },
  {
   "cell_type": "code",
   "execution_count": 11,
   "metadata": {
    "collapsed": true
   },
   "outputs": [],
   "source": [
    "cd apache-cassandra-3.0.16"
   ]
  },
  {
   "cell_type": "code",
   "execution_count": 12,
   "metadata": {
    "collapsed": false
   },
   "outputs": [
    {
     "name": "stdout",
     "output_type": "stream",
     "text": [
      "total 464\n",
      "-rw-r--r--. 1 ec2-user ec2-user   2730 Feb 14 20:16 NOTICE.txt\n",
      "-rw-r--r--. 1 ec2-user ec2-user  98203 Feb 14 20:16 NEWS.txt\n",
      "-rw-r--r--. 1 ec2-user ec2-user  11609 Feb 14 20:16 LICENSE.txt\n",
      "-rw-r--r--. 1 ec2-user ec2-user 334318 Feb 14 20:16 CHANGES.txt\n",
      "-rw-r--r--. 1 ec2-user ec2-user   4832 Feb 14 20:16 CASSANDRA-14092.txt\n",
      "drwxr-xr-x. 3 ec2-user ec2-user   4096 Mar 15 19:09 conf\n",
      "drwxr-xr-x. 2 ec2-user ec2-user     30 Mar 15 19:09 interface\n",
      "drwxr-xr-x. 3 ec2-user ec2-user     80 Mar 15 19:09 doc\n",
      "drwxr-xr-x. 3 ec2-user ec2-user   4096 Mar 15 19:09 javadoc\n",
      "drwxr-xr-x. 4 ec2-user ec2-user   4096 Mar 15 19:09 lib\n",
      "drwxr-xr-x. 3 ec2-user ec2-user     38 Mar 15 19:09 pylib\n",
      "drwxr-xr-x. 4 ec2-user ec2-user    135 Mar 15 19:09 tools\n",
      "drwxr-xr-x. 2 ec2-user ec2-user   4096 Mar 15 19:09 bin\n"
     ]
    }
   ],
   "source": [
    "ls -ltr"
   ]
  },
  {
   "cell_type": "code",
   "execution_count": 13,
   "metadata": {
    "collapsed": true
   },
   "outputs": [],
   "source": [
    "cd bin"
   ]
  },
  {
   "cell_type": "code",
   "execution_count": 14,
   "metadata": {
    "collapsed": false
   },
   "outputs": [
    {
     "name": "stdout",
     "output_type": "stream",
     "text": [
      "total 232\n",
      "-rwxr-xr-x. 1 ec2-user ec2-user   6614 Feb 14 20:16 stop-server.ps1\n",
      "-rwxr-xr-x. 1 ec2-user ec2-user   2467 Feb 14 20:16 stop-server.bat\n",
      "-rwxr-xr-x. 1 ec2-user ec2-user   1175 Feb 14 20:16 stop-server\n",
      "-rwxr-xr-x. 1 ec2-user ec2-user   1535 Feb 14 20:16 sstableverify.bat\n",
      "-rwxr-xr-x. 1 ec2-user ec2-user   2042 Feb 14 20:16 sstableverify\n",
      "-rwxr-xr-x. 1 ec2-user ec2-user   1407 Feb 14 20:16 sstableutil.bat\n",
      "-rwxr-xr-x. 1 ec2-user ec2-user   2045 Feb 14 20:16 sstableutil\n",
      "-rwxr-xr-x. 1 ec2-user ec2-user   1404 Feb 14 20:16 sstableupgrade.bat\n",
      "-rwxr-xr-x. 1 ec2-user ec2-user   2042 Feb 14 20:16 sstableupgrade\n",
      "-rwxr-xr-x. 1 ec2-user ec2-user   1404 Feb 14 20:16 sstablescrub.bat\n",
      "-rwxr-xr-x. 1 ec2-user ec2-user   2042 Feb 14 20:16 sstablescrub\n",
      "-rwxr-xr-x. 1 ec2-user ec2-user   1396 Feb 14 20:16 sstableloader.bat\n",
      "-rwxr-xr-x. 1 ec2-user ec2-user   2034 Feb 14 20:16 sstableloader\n",
      "-rwxr-xr-x. 1 ec2-user ec2-user   1957 Feb 14 20:16 source-conf.ps1\n",
      "-rwxr-xr-x. 1 ec2-user ec2-user   1513 Feb 14 20:16 nodetool.bat\n",
      "-rwxr-xr-x. 1 ec2-user ec2-user   3359 Feb 14 20:16 nodetool\n",
      "-rwxr-xr-x. 1 ec2-user ec2-user   1392 Feb 14 20:16 debug-cql.bat\n",
      "-rwxr-xr-x. 1 ec2-user ec2-user   2170 Feb 14 20:16 debug-cql\n",
      "-rwxr-xr-x. 1 ec2-user ec2-user 105977 Feb 14 20:16 cqlsh.py\n",
      "-rwxr-xr-x. 1 ec2-user ec2-user   1061 Feb 14 20:16 cqlsh.bat\n",
      "-rwxr-xr-x. 1 ec2-user ec2-user   1353 Feb 14 20:16 cqlsh\n",
      "-rwxr-xr-x. 1 ec2-user ec2-user  12431 Feb 14 20:16 cassandra.ps1\n",
      "-rw-r--r--. 1 ec2-user ec2-user   3035 Feb 14 20:16 cassandra.in.sh\n",
      "-rwxr-xr-x. 1 ec2-user ec2-user   3093 Feb 14 20:16 cassandra.in.bat\n",
      "-rwxr-xr-x. 1 ec2-user ec2-user   7110 Feb 14 20:16 cassandra.bat\n",
      "-rwxr-xr-x. 1 ec2-user ec2-user  10366 Feb 14 20:16 cassandra\n"
     ]
    }
   ],
   "source": [
    "ls -ltr"
   ]
  },
  {
   "cell_type": "code",
   "execution_count": 15,
   "metadata": {
    "collapsed": false
   },
   "outputs": [
    {
     "name": "stdout",
     "output_type": "stream",
     "text": [
      "bash: cqlsh: command not found\n"
     ]
    },
    {
     "ename": "",
     "evalue": "127",
     "output_type": "error",
     "traceback": []
    }
   ],
   "source": [
    "cqlsh -u iccassandra -p a832a593f4bd5098d30e77776c668c77 34.195.86.103 9042 --cqlversion=\"3.4.4\""
   ]
  },
  {
   "cell_type": "code",
   "execution_count": 16,
   "metadata": {
    "collapsed": false
   },
   "outputs": [
    {
     "name": "stdout",
     "output_type": "stream",
     "text": [
      "bash: ./cqlsh.sh: No such file or directory\n"
     ]
    },
    {
     "ename": "",
     "evalue": "127",
     "output_type": "error",
     "traceback": []
    }
   ],
   "source": [
    "./cqlsh.sh -u iccassandra -p a832a593f4bd5098d30e77776c668c77 34.195.86.103 9042 --cqlversion=\"3.4.4\""
   ]
  },
  {
   "cell_type": "code",
   "execution_count": null,
   "metadata": {
    "collapsed": false
   },
   "outputs": [
    {
     "name": "stdout",
     "output_type": "stream",
     "text": [
      "\u001b[?1034hConnected to \u001b[0;1;34mAnalyticsPoC\u001b[0m at 34.195.86.103:9042.\n",
      "[cqlsh 5.0.1 | Cassandra 3.11.1 | CQL spec 3.4.4 | Native protocol v4]\n",
      "Use HELP for help.\n"
     ]
    }
   ],
   "source": [
    "./cqlsh -u iccassandra -p a832a593f4bd5098d30e77776c668c77 34.195.86.103 9042 --cqlversion=\"3.4.4\""
   ]
  },
  {
   "cell_type": "code",
   "execution_count": null,
   "metadata": {
    "collapsed": true
   },
   "outputs": [],
   "source": [
    "use amcdopoc;"
   ]
  },
  {
   "cell_type": "code",
   "execution_count": null,
   "metadata": {
    "collapsed": true
   },
   "outputs": [],
   "source": [
    "COPY portfolio_positions(portfolio_id,business_date,security_id,weight) FROM '/home/ec2-user/notebooks/SP50_constituents_gen.csv' with HEADER=TRUE;"
   ]
  },
  {
   "cell_type": "code",
   "execution_count": null,
   "metadata": {
    "collapsed": true
   },
   "outputs": [],
   "source": [
    "select * from portfolio_positions where portfolio_id = 'SP50';"
   ]
  },
  {
   "cell_type": "code",
   "execution_count": null,
   "metadata": {
    "collapsed": true
   },
   "outputs": [],
   "source": [
    "exit;"
   ]
  },
  {
   "cell_type": "code",
   "execution_count": 2,
   "metadata": {
    "collapsed": false
   },
   "outputs": [
    {
     "name": "stdout",
     "output_type": "stream",
     "text": [
      "[\u001b[1;34mINFO\u001b[m] Scanning for projects...\n",
      "[\u001b[1;33mWARNING\u001b[m] \n",
      "[\u001b[1;33mWARNING\u001b[m] Some problems were encountered while building the effective model for AnalyticsPoC:AnalyticsPoC:jar:0.0.1-SNAPSHOT\n",
      "[\u001b[1;33mWARNING\u001b[m] 'build.plugins.plugin.version' for org.codehaus.mojo:exec-maven-plugin is missing. @ line 18, column 12\n",
      "[\u001b[1;33mWARNING\u001b[m] \n",
      "[\u001b[1;33mWARNING\u001b[m] It is highly recommended to fix these problems because they threaten the stability of your build.\n",
      "[\u001b[1;33mWARNING\u001b[m] \n",
      "[\u001b[1;33mWARNING\u001b[m] For this reason, future Maven versions might no longer support building such malformed projects.\n",
      "[\u001b[1;33mWARNING\u001b[m] \n",
      "[\u001b[1;34mINFO\u001b[m] \n",
      "[\u001b[1;34mINFO\u001b[m] \u001b[1m---------------------< \u001b[0;36mAnalyticsPoC:AnalyticsPoC\u001b[0;1m >----------------------\u001b[m\n",
      "[\u001b[1;34mINFO\u001b[m] \u001b[1mBuilding AnalyticsPoC 0.0.1-SNAPSHOT\u001b[m\n",
      "[\u001b[1;34mINFO\u001b[m] \u001b[1m--------------------------------[ jar ]---------------------------------\u001b[m\n",
      "[\u001b[1;34mINFO\u001b[m] \n",
      "[\u001b[1;34mINFO\u001b[m] \u001b[1m--- \u001b[0;32mmaven-resources-plugin:2.6:resources\u001b[m \u001b[1m(default-resources)\u001b[m @ \u001b[36mAnalyticsPoC\u001b[0;1m ---\u001b[m\n",
      "[\u001b[1;33mWARNING\u001b[m] Using platform encoding (UTF-8 actually) to copy filtered resources, i.e. build is platform dependent!\n",
      "[\u001b[1;34mINFO\u001b[m] skip non existing resourceDirectory /home/ec2-user/notebooks/AnalyticsCDOPoc/src/main/resources\n",
      "[\u001b[1;34mINFO\u001b[m] \n",
      "[\u001b[1;34mINFO\u001b[m] \u001b[1m--- \u001b[0;32mmaven-compiler-plugin:3.5.1:compile\u001b[m \u001b[1m(default-compile)\u001b[m @ \u001b[36mAnalyticsPoC\u001b[0;1m ---\u001b[m\n",
      "[\u001b[1;34mINFO\u001b[m] Changes detected - recompiling the module!\n",
      "[\u001b[1;33mWARNING\u001b[m] File encoding has not been set, using platform encoding UTF-8, i.e. build is platform dependent!\n",
      "[\u001b[1;34mINFO\u001b[m] Compiling 19 source files to /home/ec2-user/notebooks/AnalyticsCDOPoc/target/classes\n",
      "[\u001b[1;34mINFO\u001b[m] /home/ec2-user/notebooks/AnalyticsCDOPoc/src/AnalyticsUtil.java: /home/ec2-user/notebooks/AnalyticsCDOPoc/src/AnalyticsUtil.java uses or overrides a deprecated API.\n",
      "[\u001b[1;34mINFO\u001b[m] /home/ec2-user/notebooks/AnalyticsCDOPoc/src/AnalyticsUtil.java: Recompile with -Xlint:deprecation for details.\n",
      "[\u001b[1;34mINFO\u001b[m] /home/ec2-user/notebooks/AnalyticsCDOPoc/src/CassConnector.java: /home/ec2-user/notebooks/AnalyticsCDOPoc/src/CassConnector.java uses unchecked or unsafe operations.\n",
      "[\u001b[1;34mINFO\u001b[m] /home/ec2-user/notebooks/AnalyticsCDOPoc/src/CassConnector.java: Recompile with -Xlint:unchecked for details.\n",
      "[\u001b[1;34mINFO\u001b[m] \n",
      "[\u001b[1;34mINFO\u001b[m] \u001b[1m--- \u001b[0;32mmaven-resources-plugin:2.6:testResources\u001b[m \u001b[1m(default-testResources)\u001b[m @ \u001b[36mAnalyticsPoC\u001b[0;1m ---\u001b[m\n",
      "[\u001b[1;33mWARNING\u001b[m] Using platform encoding (UTF-8 actually) to copy filtered resources, i.e. build is platform dependent!\n",
      "[\u001b[1;34mINFO\u001b[m] skip non existing resourceDirectory /home/ec2-user/notebooks/AnalyticsCDOPoc/src/test/resources\n",
      "[\u001b[1;34mINFO\u001b[m] \n",
      "[\u001b[1;34mINFO\u001b[m] \u001b[1m--- \u001b[0;32mmaven-compiler-plugin:3.5.1:testCompile\u001b[m \u001b[1m(default-testCompile)\u001b[m @ \u001b[36mAnalyticsPoC\u001b[0;1m ---\u001b[m\n",
      "[\u001b[1;34mINFO\u001b[m] No sources to compile\n",
      "[\u001b[1;34mINFO\u001b[m] \n",
      "[\u001b[1;34mINFO\u001b[m] \u001b[1m--- \u001b[0;32mmaven-surefire-plugin:2.12.4:test\u001b[m \u001b[1m(default-test)\u001b[m @ \u001b[36mAnalyticsPoC\u001b[0;1m ---\u001b[m\n",
      "[\u001b[1;34mINFO\u001b[m] No tests to run.\n",
      "[\u001b[1;34mINFO\u001b[m] \n",
      "[\u001b[1;34mINFO\u001b[m] \u001b[1m--- \u001b[0;32mmaven-jar-plugin:2.4:jar\u001b[m \u001b[1m(default-jar)\u001b[m @ \u001b[36mAnalyticsPoC\u001b[0;1m ---\u001b[m\n",
      "[\u001b[1;34mINFO\u001b[m] Building jar: /home/ec2-user/notebooks/AnalyticsCDOPoc/target/AnalyticsPoC-0.0.1-SNAPSHOT.jar\n",
      "[\u001b[1;34mINFO\u001b[m] \u001b[1m------------------------------------------------------------------------\u001b[m\n",
      "[\u001b[1;34mINFO\u001b[m] \u001b[1;32mBUILD SUCCESS\u001b[m\n",
      "[\u001b[1;34mINFO\u001b[m] \u001b[1m------------------------------------------------------------------------\u001b[m\n",
      "[\u001b[1;34mINFO\u001b[m] Total time: 6.825 s\n",
      "[\u001b[1;34mINFO\u001b[m] Finished at: 2018-03-15T19:32:44Z\n",
      "[\u001b[1;34mINFO\u001b[m] \u001b[1m------------------------------------------------------------------------\u001b[m\n",
      "[\u001b[1;34mINFO\u001b[m] Scanning for projects...\n",
      "[\u001b[1;33mWARNING\u001b[m] \n",
      "[\u001b[1;33mWARNING\u001b[m] Some problems were encountered while building the effective model for AnalyticsPoC:AnalyticsPoC:jar:0.0.1-SNAPSHOT\n",
      "[\u001b[1;33mWARNING\u001b[m] 'build.plugins.plugin.version' for org.codehaus.mojo:exec-maven-plugin is missing. @ line 18, column 12\n",
      "[\u001b[1;33mWARNING\u001b[m] \n",
      "[\u001b[1;33mWARNING\u001b[m] It is highly recommended to fix these problems because they threaten the stability of your build.\n",
      "[\u001b[1;33mWARNING\u001b[m] \n",
      "[\u001b[1;33mWARNING\u001b[m] For this reason, future Maven versions might no longer support building such malformed projects.\n",
      "[\u001b[1;33mWARNING\u001b[m] \n",
      "[\u001b[1;34mINFO\u001b[m] \n",
      "[\u001b[1;34mINFO\u001b[m] \u001b[1m---------------------< \u001b[0;36mAnalyticsPoC:AnalyticsPoC\u001b[0;1m >----------------------\u001b[m\n",
      "[\u001b[1;34mINFO\u001b[m] \u001b[1mBuilding AnalyticsPoC 0.0.1-SNAPSHOT\u001b[m\n",
      "[\u001b[1;34mINFO\u001b[m] \u001b[1m--------------------------------[ jar ]---------------------------------\u001b[m\n",
      "[\u001b[1;34mINFO\u001b[m] \n",
      "[\u001b[1;34mINFO\u001b[m] \u001b[1m--- \u001b[0;32mexec-maven-plugin:1.6.0:java\u001b[m \u001b[1m(default-cli)\u001b[m @ \u001b[36mAnalyticsPoC\u001b[0;1m ---\u001b[m\n",
      "[\u001b[1;34mINFO\u001b[m] \u001b[1m------------------------------------------------------------------------\u001b[m\n",
      "[\u001b[1;34mINFO\u001b[m] \u001b[1;32mBUILD SUCCESS\u001b[m\n",
      "[\u001b[1;34mINFO\u001b[m] \u001b[1m------------------------------------------------------------------------\u001b[m\n",
      "[\u001b[1;34mINFO\u001b[m] Total time: 3.499 s\n",
      "[\u001b[1;34mINFO\u001b[m] Finished at: 2018-03-15T19:32:50Z\n",
      "[\u001b[1;34mINFO\u001b[m] \u001b[1m------------------------------------------------------------------------\u001b[m\n"
     ]
    }
   ],
   "source": [
    "export JAVA_HOME=~/jdk1.8.0_161\n",
    "cd ~/notebooks/AnalyticsCDOPoc\n",
    "~/apache-maven-3.5.3/bin/mvn package\n",
    "~/apache-maven-3.5.3/bin/mvn exec:java -Dexec.mainClass=\"DataCSVFormatter2\""
   ]
  },
  {
   "cell_type": "code",
   "execution_count": null,
   "metadata": {
    "collapsed": true
   },
   "outputs": [],
   "source": []
  }
 ],
 "metadata": {
  "kernelspec": {
   "display_name": "Bash",
   "language": "bash",
   "name": "bash"
  },
  "language_info": {
   "codemirror_mode": "shell",
   "file_extension": ".sh",
   "mimetype": "text/x-sh",
   "name": "bash"
  }
 },
 "nbformat": 4,
 "nbformat_minor": 0
}
